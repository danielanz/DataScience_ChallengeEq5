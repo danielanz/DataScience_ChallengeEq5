{
 "cells": [
  {
   "cell_type": "code",
   "execution_count": 104,
   "metadata": {},
   "outputs": [],
   "source": [
    "import pandas as pd\n",
    "import matplotlib.pyplot as plt\n",
    "import seaborn as sns\n",
    "import numpy as np\n",
    "from selenium import webdriver\n",
    "\n",
    "from sklearn.model_selection import train_test_split\n",
    "from sklearn.ensemble import RandomForestRegressor\n",
    "from sklearn.metrics import mean_absolute_error"
   ]
  },
  {
   "cell_type": "code",
   "execution_count": 49,
   "metadata": {},
   "outputs": [],
   "source": [
    "filepath='/Users/fernandosangerman/Downloads/muni_2018_ProbSequia_2008-2020.xlsx'\n",
    "filepath1='/Users/fernandosangerman/Downloads/PozosPorMunicipio.xlsx'\n",
    "url='https://cuentame.inegi.org.mx/monografias/informacion/nl/territorio/div_municipal.aspx?tema=me&e=19'"
   ]
  },
  {
   "cell_type": "code",
   "execution_count": 50,
   "metadata": {},
   "outputs": [],
   "source": [
    "q=pd.read_excel(filepath)\n",
    "p=pd.read_excel(filepath1)"
   ]
  },
  {
   "cell_type": "code",
   "execution_count": 112,
   "metadata": {},
   "outputs": [
    {
     "data": {
      "text/html": [
       "<div>\n",
       "<style scoped>\n",
       "    .dataframe tbody tr th:only-of-type {\n",
       "        vertical-align: middle;\n",
       "    }\n",
       "\n",
       "    .dataframe tbody tr th {\n",
       "        vertical-align: top;\n",
       "    }\n",
       "\n",
       "    .dataframe thead th {\n",
       "        text-align: right;\n",
       "    }\n",
       "</style>\n",
       "<table border=\"1\" class=\"dataframe\">\n",
       "  <thead>\n",
       "    <tr style=\"text-align: right;\">\n",
       "      <th></th>\n",
       "      <th>CVE_ENT</th>\n",
       "      <th>CVE_MUN</th>\n",
       "      <th>CVEGEO</th>\n",
       "      <th>AREA</th>\n",
       "      <th>PERIMETER</th>\n",
       "      <th>COV_</th>\n",
       "      <th>COV_ID</th>\n",
       "      <th>PROBSEQD0_</th>\n",
       "      <th>NIVELPROBS</th>\n",
       "      <th>Población total 2020</th>\n",
       "      <th>Municipio</th>\n",
       "    </tr>\n",
       "  </thead>\n",
       "  <tbody>\n",
       "    <tr>\n",
       "      <th>0</th>\n",
       "      <td>19</td>\n",
       "      <td>1</td>\n",
       "      <td>19001</td>\n",
       "      <td>4644.99373</td>\n",
       "      <td>46.44994</td>\n",
       "      <td>952</td>\n",
       "      <td>953</td>\n",
       "      <td>0.276151</td>\n",
       "      <td>Baja</td>\n",
       "      <td>2974</td>\n",
       "      <td>Abasolo</td>\n",
       "    </tr>\n",
       "    <tr>\n",
       "      <th>1</th>\n",
       "      <td>19</td>\n",
       "      <td>2</td>\n",
       "      <td>19002</td>\n",
       "      <td>97246.30863</td>\n",
       "      <td>972.46309</td>\n",
       "      <td>953</td>\n",
       "      <td>954</td>\n",
       "      <td>0.602510</td>\n",
       "      <td>Alta</td>\n",
       "      <td>3382</td>\n",
       "      <td>Agualeguas</td>\n",
       "    </tr>\n",
       "    <tr>\n",
       "      <th>2</th>\n",
       "      <td>19</td>\n",
       "      <td>4</td>\n",
       "      <td>19004</td>\n",
       "      <td>18855.90881</td>\n",
       "      <td>188.55909</td>\n",
       "      <td>955</td>\n",
       "      <td>956</td>\n",
       "      <td>0.338912</td>\n",
       "      <td>Baja</td>\n",
       "      <td>35289</td>\n",
       "      <td>Allende</td>\n",
       "    </tr>\n",
       "    <tr>\n",
       "      <th>3</th>\n",
       "      <td>19</td>\n",
       "      <td>5</td>\n",
       "      <td>19005</td>\n",
       "      <td>450980.10900</td>\n",
       "      <td>4509.80109</td>\n",
       "      <td>956</td>\n",
       "      <td>957</td>\n",
       "      <td>0.543933</td>\n",
       "      <td>Media</td>\n",
       "      <td>18030</td>\n",
       "      <td>Anáhuac</td>\n",
       "    </tr>\n",
       "    <tr>\n",
       "      <th>4</th>\n",
       "      <td>19</td>\n",
       "      <td>6</td>\n",
       "      <td>19006</td>\n",
       "      <td>22261.12827</td>\n",
       "      <td>222.61128</td>\n",
       "      <td>957</td>\n",
       "      <td>958</td>\n",
       "      <td>0.384937</td>\n",
       "      <td>Baja</td>\n",
       "      <td>656464</td>\n",
       "      <td>Apodaca</td>\n",
       "    </tr>\n",
       "  </tbody>\n",
       "</table>\n",
       "</div>"
      ],
      "text/plain": [
       "   CVE_ENT  CVE_MUN  CVEGEO          AREA   PERIMETER  COV_  COV_ID  \\\n",
       "0       19        1   19001    4644.99373    46.44994   952     953   \n",
       "1       19        2   19002   97246.30863   972.46309   953     954   \n",
       "2       19        4   19004   18855.90881   188.55909   955     956   \n",
       "3       19        5   19005  450980.10900  4509.80109   956     957   \n",
       "4       19        6   19006   22261.12827   222.61128   957     958   \n",
       "\n",
       "   PROBSEQD0_ NIVELPROBS Población total 2020   Municipio  \n",
       "0    0.276151       Baja                 2974     Abasolo  \n",
       "1    0.602510       Alta                 3382  Agualeguas  \n",
       "2    0.338912       Baja                35289     Allende  \n",
       "3    0.543933      Media                18030     Anáhuac  \n",
       "4    0.384937       Baja               656464     Apodaca  "
      ]
     },
     "execution_count": 112,
     "metadata": {},
     "output_type": "execute_result"
    }
   ],
   "source": [
    "q.loc[q.NOM_ENT=='Nuevo LeÛn',\"NOM_ENT\"]=\"Nuevo Leon\"\n",
    "dfnl=q.loc[q.NOM_ENT=='Nuevo Leon']\n",
    "dfnl=dfnl.reset_index(drop=True)\n",
    "pob=pd.read_html(url)\n",
    "pobNL=pob[1]\n",
    "dfnl=dfnl.join(pobNL['Población total 2020'])\n",
    "dfnl=dfnl.join(pobNL['Municipio'])\n",
    "dfnl=dfnl.drop([\"NOM_MUN\",\"NOM_ENT\"],axis=1)\n",
    "#dfnl=dfnl.sort_values(by=['PROBSEQD0_'])\n",
    "dfnl=dfnl.drop(2)\n",
    "dfnl=dfnl.reset_index(drop=True)\n",
    "dfnl.head()\n"
   ]
  },
  {
   "cell_type": "code",
   "execution_count": 86,
   "metadata": {},
   "outputs": [],
   "source": [
    "top10seq=dfnl.sort_values(by=['PROBSEQD0_']).tail(10)\n",
    "top10nseq=dfnl.sort_values(by=['PROBSEQD0_']).head(10)"
   ]
  },
  {
   "cell_type": "code",
   "execution_count": 74,
   "metadata": {},
   "outputs": [
    {
     "data": {
      "text/plain": [
       "<AxesSubplot:xlabel='Municipio'>"
      ]
     },
     "execution_count": 74,
     "metadata": {},
     "output_type": "execute_result"
    },
    {
     "data": {
      "image/png": "[encoded data removed]",
      "text/plain": [
       "<Figure size 432x288 with 1 Axes>"
      ]
     },
     "metadata": {
      "needs_background": "light"
     },
     "output_type": "display_data"
    }
   ],
   "source": [
    "top10seq.plot.bar(x=\"Municipio\",y=\"PROBSEQD0_\")"
   ]
  },
  {
   "cell_type": "code",
   "execution_count": 75,
   "metadata": {},
   "outputs": [
    {
     "data": {
      "text/plain": [
       "<AxesSubplot:xlabel='Municipio'>"
      ]
     },
     "execution_count": 75,
     "metadata": {},
     "output_type": "execute_result"
    },
    {
     "data": {
      "image/png": "[encoded data removed]",
      "text/plain": [
       "<Figure size 432x288 with 1 Axes>"
      ]
     },
     "metadata": {
      "needs_background": "light"
     },
     "output_type": "display_data"
    }
   ],
   "source": [
    "top10nseq.plot.bar(x=\"Municipio\",y=\"PROBSEQD0_\")"
   ]
  },
  {
   "cell_type": "code",
   "execution_count": 40,
   "metadata": {},
   "outputs": [
    {
     "data": {
      "text/plain": [
       "<BarContainer object of 4 artists>"
      ]
     },
     "execution_count": 40,
     "metadata": {},
     "output_type": "execute_result"
    },
    {
     "data": {
      "image/png": "[encoded data removed]",
      "text/plain": [
       "<Figure size 432x288 with 1 Axes>"
      ]
     },
     "metadata": {
      "needs_background": "light"
     },
     "output_type": "display_data"
    }
   ],
   "source": [
    "nmb=dfnl.loc[dfnl.NIVELPROBS==\"Muy Baja\", \"NIVELPROBS\"].count()\n",
    "nb=dfnl.loc[dfnl.NIVELPROBS==\"Baja\", \"NIVELPROBS\"].count()\n",
    "nm=dfnl.loc[dfnl.NIVELPROBS==\"Media\", \"NIVELPROBS\"].count()\n",
    "na=dfnl.loc[dfnl.NIVELPROBS==\"Alta\", \"NIVELPROBS\"].count()\n",
    "NivelProbA=[nmb,nb,nm,na]\n",
    "NivelesA=list(dfnl[\"NIVELPROBS\"].unique())\n",
    "plt.bar(x=NivelesA,height=NivelProbA)"
   ]
  },
  {
   "cell_type": "code",
   "execution_count": 41,
   "metadata": {},
   "outputs": [
    {
     "data": {
      "text/plain": [
       "count    51.000000\n",
       "mean      0.405858\n",
       "std       0.112747\n",
       "min       0.163180\n",
       "25%       0.341004\n",
       "50%       0.393305\n",
       "75%       0.466527\n",
       "max       0.631799\n",
       "Name: PROBSEQD0_, dtype: float64"
      ]
     },
     "execution_count": 41,
     "metadata": {},
     "output_type": "execute_result"
    }
   ],
   "source": [
    "dfnl[\"PROBSEQD0_\"].describe()"
   ]
  },
  {
   "cell_type": "code",
   "execution_count": 45,
   "metadata": {},
   "outputs": [
    {
     "data": {
      "text/plain": [
       "[Text(0.5, 14.09375, '\\nDatos de Nuevo Léon'),\n",
       " Text(32.09375, 0.5, 'Datos de Nuevo León\\t'),\n",
       " Text(0.5, 1.0, 'Matriz de Correlación de Datos de Nuevo León\\n')]"
      ]
     },
     "execution_count": 45,
     "metadata": {},
     "output_type": "execute_result"
    },
    {
     "name": "stderr",
     "output_type": "stream",
     "text": [
      "/Users/fernandosangerman/opt/anaconda3/lib/python3.8/site-packages/matplotlib/backends/backend_agg.py:238: RuntimeWarning: Glyph 9 missing from current font.\n",
      "  font.set_text(s, 0.0, flags=flags)\n",
      "/Users/fernandosangerman/opt/anaconda3/lib/python3.8/site-packages/matplotlib/backends/backend_agg.py:201: RuntimeWarning: Glyph 9 missing from current font.\n",
      "  font.set_text(s, 0, flags=flags)\n"
     ]
    },
    {
     "data": {
      "image/png": "[encoded data removed]",
      "text/plain": [
       "<Figure size 432x288 with 1 Axes>"
      ]
     },
     "metadata": {
      "needs_background": "light"
     },
     "output_type": "display_data"
    }
   ],
   "source": [
    "corr = sns.heatmap(dfnl.corr(), annot=True ,center=0, linewidths=.5, cbar=False, cmap=sns.diverging_palette(230, 20, as_cmap=True))\n",
    "corr.set(xlabel='\\nDatos de Nuevo Léon', ylabel='Datos de Nuevo León\\t', title = \"Matriz de Correlación de Datos de Nuevo León\\n\")"
   ]
  },
  {
   "cell_type": "code",
   "execution_count": 110,
   "metadata": {},
   "outputs": [],
   "source": [
    "p[\"NOMBRE DE ESTADO\"].unique()\n",
    "dfnla=p.loc[p['NOMBRE DE ESTADO']=='NUEVO LEÓN']\n",
    "mun=list(dfnla[\"NOMBRE DE MUNICIPIO\"].unique())\n",
    "mun.sort()"
   ]
  },
  {
   "cell_type": "code",
   "execution_count": 82,
   "metadata": {},
   "outputs": [
    {
     "data": {
      "text/plain": [
       "50"
      ]
     },
     "execution_count": 82,
     "metadata": {},
     "output_type": "execute_result"
    }
   ],
   "source": [
    "aguamun=[]\n",
    "for m in mun:\n",
    "    aguamun.append(dfnla.loc[dfnla['NOMBRE DE MUNICIPIO']==m, \"VOLUMEN ANUAL EN m3\"].sum())"
   ]
  },
  {
   "cell_type": "code",
   "execution_count": 94,
   "metadata": {},
   "outputs": [],
   "source": [
    "dfnl['Volumen en m3 de agua por municipio']=aguamun"
   ]
  },
  {
   "cell_type": "code",
   "execution_count": 111,
   "metadata": {},
   "outputs": [
    {
     "data": {
      "text/html": [
       "<div>\n",
       "<style scoped>\n",
       "    .dataframe tbody tr th:only-of-type {\n",
       "        vertical-align: middle;\n",
       "    }\n",
       "\n",
       "    .dataframe tbody tr th {\n",
       "        vertical-align: top;\n",
       "    }\n",
       "\n",
       "    .dataframe thead th {\n",
       "        text-align: right;\n",
       "    }\n",
       "</style>\n",
       "<table border=\"1\" class=\"dataframe\">\n",
       "  <thead>\n",
       "    <tr style=\"text-align: right;\">\n",
       "      <th></th>\n",
       "      <th>CVE_ENT</th>\n",
       "      <th>CVE_MUN</th>\n",
       "      <th>CVEGEO</th>\n",
       "      <th>AREA</th>\n",
       "      <th>PERIMETER</th>\n",
       "      <th>COV_</th>\n",
       "      <th>COV_ID</th>\n",
       "      <th>PROBSEQD0_</th>\n",
       "      <th>NIVELPROBS</th>\n",
       "      <th>Población total 2020</th>\n",
       "      <th>Municipio</th>\n",
       "      <th>Volumen en m3 de agua por municipio</th>\n",
       "    </tr>\n",
       "  </thead>\n",
       "  <tbody>\n",
       "    <tr>\n",
       "      <th>0</th>\n",
       "      <td>19</td>\n",
       "      <td>1</td>\n",
       "      <td>19001</td>\n",
       "      <td>4644.99373</td>\n",
       "      <td>46.44994</td>\n",
       "      <td>952</td>\n",
       "      <td>953</td>\n",
       "      <td>0.276151</td>\n",
       "      <td>Baja</td>\n",
       "      <td>2974</td>\n",
       "      <td>Abasolo</td>\n",
       "      <td>142845.00</td>\n",
       "    </tr>\n",
       "    <tr>\n",
       "      <th>1</th>\n",
       "      <td>19</td>\n",
       "      <td>2</td>\n",
       "      <td>19002</td>\n",
       "      <td>97246.30863</td>\n",
       "      <td>972.46309</td>\n",
       "      <td>953</td>\n",
       "      <td>954</td>\n",
       "      <td>0.602510</td>\n",
       "      <td>Alta</td>\n",
       "      <td>3382</td>\n",
       "      <td>Agualeguas</td>\n",
       "      <td>10023583.80</td>\n",
       "    </tr>\n",
       "    <tr>\n",
       "      <th>2</th>\n",
       "      <td>19</td>\n",
       "      <td>4</td>\n",
       "      <td>19004</td>\n",
       "      <td>18855.90881</td>\n",
       "      <td>188.55909</td>\n",
       "      <td>955</td>\n",
       "      <td>956</td>\n",
       "      <td>0.338912</td>\n",
       "      <td>Baja</td>\n",
       "      <td>35289</td>\n",
       "      <td>Allende</td>\n",
       "      <td>5329277.95</td>\n",
       "    </tr>\n",
       "    <tr>\n",
       "      <th>3</th>\n",
       "      <td>19</td>\n",
       "      <td>5</td>\n",
       "      <td>19005</td>\n",
       "      <td>450980.10900</td>\n",
       "      <td>4509.80109</td>\n",
       "      <td>956</td>\n",
       "      <td>957</td>\n",
       "      <td>0.543933</td>\n",
       "      <td>Media</td>\n",
       "      <td>18030</td>\n",
       "      <td>Anáhuac</td>\n",
       "      <td>2634101.00</td>\n",
       "    </tr>\n",
       "    <tr>\n",
       "      <th>4</th>\n",
       "      <td>19</td>\n",
       "      <td>6</td>\n",
       "      <td>19006</td>\n",
       "      <td>22261.12827</td>\n",
       "      <td>222.61128</td>\n",
       "      <td>957</td>\n",
       "      <td>958</td>\n",
       "      <td>0.384937</td>\n",
       "      <td>Baja</td>\n",
       "      <td>656464</td>\n",
       "      <td>Apodaca</td>\n",
       "      <td>18740413.67</td>\n",
       "    </tr>\n",
       "  </tbody>\n",
       "</table>\n",
       "</div>"
      ],
      "text/plain": [
       "   CVE_ENT  CVE_MUN  CVEGEO          AREA   PERIMETER  COV_  COV_ID  \\\n",
       "0       19        1   19001    4644.99373    46.44994   952     953   \n",
       "1       19        2   19002   97246.30863   972.46309   953     954   \n",
       "2       19        4   19004   18855.90881   188.55909   955     956   \n",
       "3       19        5   19005  450980.10900  4509.80109   956     957   \n",
       "4       19        6   19006   22261.12827   222.61128   957     958   \n",
       "\n",
       "   PROBSEQD0_ NIVELPROBS Población total 2020   Municipio  \\\n",
       "0    0.276151       Baja                 2974     Abasolo   \n",
       "1    0.602510       Alta                 3382  Agualeguas   \n",
       "2    0.338912       Baja                35289     Allende   \n",
       "3    0.543933      Media                18030     Anáhuac   \n",
       "4    0.384937       Baja               656464     Apodaca   \n",
       "\n",
       "   Volumen en m3 de agua por municipio  \n",
       "0                            142845.00  \n",
       "1                          10023583.80  \n",
       "2                           5329277.95  \n",
       "3                           2634101.00  \n",
       "4                          18740413.67  "
      ]
     },
     "execution_count": 111,
     "metadata": {},
     "output_type": "execute_result"
    }
   ],
   "source": [
    "dfnl.head()"
   ]
  },
  {
   "cell_type": "code",
   "execution_count": 108,
   "metadata": {},
   "outputs": [
    {
     "name": "stdout",
     "output_type": "stream",
     "text": [
      "Validation MAE: 0.06340429605430192\n"
     ]
    }
   ],
   "source": [
    "x=dfnl[[\"AREA\",\"PERIMETER\",\"Población total 2020\",\"Volumen en m3 de agua por municipio\"]]\n",
    "y=dfnl[\"PROBSEQD0_\"]\n",
    "train_X, val_X, train_y, val_y = train_test_split(x, y, random_state=1)\n",
    "model=RandomForestRegressor(random_state=1,max_leaf_nodes=10,max_depth=2)\n",
    "model.fit(train_X,train_y)\n",
    "predictions=model.predict(val_X)\n",
    "val_mae = mean_absolute_error(predictions, val_y)\n",
    "print(\"Validation MAE: \"+ str(val_mae))\n"
   ]
  }
 ],
 "metadata": {
  "kernelspec": {
   "display_name": "Python 3",
   "language": "python",
   "name": "python3"
  },
  "language_info": {
   "codemirror_mode": {
    "name": "ipython",
    "version": 3
   },
   "file_extension": ".py",
   "mimetype": "text/x-python",
   "name": "python",
   "nbconvert_exporter": "python",
   "pygments_lexer": "ipython3",
   "version": "3.8.5"
  }
 },
 "nbformat": 4,
 "nbformat_minor": 4
}
